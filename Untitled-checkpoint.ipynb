{
 "cells": [
  {
   "cell_type": "code",
   "execution_count": 1,
   "id": "50e4399b",
   "metadata": {},
   "outputs": [],
   "source": [
    "fit_files=[\"RUN_2021-03-25-10-40-55.fit.csv\",\"RUN_2021-03-28-08-52-59.fit.csv\",\"RUN_2021-04-01-11-01-57.fit.csv\",\"RUN_2021-04-02-09-11-28.fit.csv\",\"RUN_2021-04-04-07-56-55.fit.csv\",\"RUN_2021-04-06-09-04-28.fit (1).csv\",\"RUN_2021-04-08-10-09-18.fit.csv\",\"RUN_2021-04-11-08-14-51.fit.csv\",\"RUN_2021-04-16-09-04-35.fit.csv\",\"RUN_2021-04-18-09-57-41.fit.csv\",\"RUN_2021-04-21-10-03-47.fit.csv\",\"RUN_2021-04-25-09-45-00.fit.csv\",\"RUN_2021-04-28-12-34-28.fit.csv\",\"RUN_2021-04-30-12-10-46.fit.csv\",\"RUN_2021-05-02-08-59-37.fit.csv\",\"RUN_2021-05-04-13-59-25.fit.csv\",\"RUN_2021-05-06-13-47-46.fit.csv\",\"RUN_2021-05-09-10-51-15.fit.csv\",\"RUN_2021-05-12-08-15-45.fit.csv\",\"RUN_2021-05-14-11-13-15.fit.csv\",\"RUN_2021-05-16-09-29-20.fit.csv\",\"RUN_2021-05-25-10-24-12.fit.csv\",\"RUN_2021-05-27-11-52-58.fit.csv\",\"RUN_2021-05-31-11-04-24.fit.csv\",\"RUN_2021-06-01-10-43-17.fit.csv\",\"RUN_2021-06-03-12-12-51.fit.csv\",\"RUN_2021-06-05-09-20-05.fit.csv\",\"RUN_2021-06-08-12-15-38.fit.csv\",\"RUN_2021-06-11-11-14-55.fit.csv\",\"RUN_2021-06-16-08-58-21.fit.csv\",\"RUN_2021-06-18-11-06-23.fit.csv\",\"RUN_2021-06-22-09-08-56.fit.csv\",\"RUN_2021-06-24-10-46-01.fit.csv\",\"RUN_2021-06-25-11-40-48.fit.csv\",\"RUN_2021-06-28-11-32-14.fit.csv\",\"RUN_2021-07-01-10-38-15.fit.csv\",\"RUN_2021-07-03-14-10-28.fit.csv\",\"RUN_2021-07-05-12-19-50.fit.csv\",\"RUN_2021-07-08-10-18-55.fit.csv\",\"RUN_2021-07-11-10-06-35.fit.csv\",\"RUN_2021-07-13-09-58-48.fit.csv\",\"RUN_2021-07-14-08-52-31.fit.csv\",\"RUN_2021-07-15-09-22-41.fit.csv\",\"RUN_2021-07-16-10-15-34.fit.csv\",\"RUN_2021-07-18-10-36-40.fit.csv\",\"RUN_2021-07-20-08-49-35.fit.csv\",\"RUN_2021-07-21-09-57-29.fit.csv\",\"RUN_2021-07-25-08-07-59.fit.csv\",\"RUN_2021-07-28-11-32-17.fit (1).csv\",\"RUN_2021-08-02-10-38-07.fit.csv\",\"RUN_2021-08-10-12-54-01.fit.csv\",\"RUN_2021-08-24-10-44-21.fit.csv\",\"RUN_2021-08-26-07-15-23.fit.csv\"]"
   ]
  },
  {
   "cell_type": "code",
   "execution_count": 2,
   "id": "9a849b1b",
   "metadata": {},
   "outputs": [],
   "source": [
    "test_files=[\"RUN_2021-08-05-11-12-41.fit.csv\",\"RUN_2021-08-28-10-18-42.fit.csv\",\"RUN_2021-08-29-09-28-52.fit.csv\",\"RUN_2021-08-31-10-10-56.fit.csv\",\"RUN_2021-09-01-09-09-44.fit.csv\"]"
   ]
  },
  {
   "cell_type": "code",
   "execution_count": 3,
   "id": "a997e961",
   "metadata": {},
   "outputs": [
    {
     "name": "stdout",
     "output_type": "stream",
     "text": [
      "Requirement already satisfied: tensorflow in c:\\users\\lenovo\\anaconda3\\lib\\site-packages (2.16.1)\n",
      "Requirement already satisfied: tensorflow-intel==2.16.1 in c:\\users\\lenovo\\anaconda3\\lib\\site-packages (from tensorflow) (2.16.1)\n",
      "Requirement already satisfied: absl-py>=1.0.0 in c:\\users\\lenovo\\anaconda3\\lib\\site-packages (from tensorflow-intel==2.16.1->tensorflow) (2.1.0)\n",
      "Requirement already satisfied: astunparse>=1.6.0 in c:\\users\\lenovo\\anaconda3\\lib\\site-packages (from tensorflow-intel==2.16.1->tensorflow) (1.6.3)\n",
      "Requirement already satisfied: flatbuffers>=23.5.26 in c:\\users\\lenovo\\anaconda3\\lib\\site-packages (from tensorflow-intel==2.16.1->tensorflow) (24.3.25)\n",
      "Requirement already satisfied: gast!=0.5.0,!=0.5.1,!=0.5.2,>=0.2.1 in c:\\users\\lenovo\\anaconda3\\lib\\site-packages (from tensorflow-intel==2.16.1->tensorflow) (0.5.4)\n",
      "Requirement already satisfied: google-pasta>=0.1.1 in c:\\users\\lenovo\\anaconda3\\lib\\site-packages (from tensorflow-intel==2.16.1->tensorflow) (0.2.0)\n",
      "Requirement already satisfied: h5py>=3.10.0 in c:\\users\\lenovo\\anaconda3\\lib\\site-packages (from tensorflow-intel==2.16.1->tensorflow) (3.11.0)\n",
      "Requirement already satisfied: libclang>=13.0.0 in c:\\users\\lenovo\\anaconda3\\lib\\site-packages (from tensorflow-intel==2.16.1->tensorflow) (18.1.1)\n",
      "Requirement already satisfied: ml-dtypes~=0.3.1 in c:\\users\\lenovo\\anaconda3\\lib\\site-packages (from tensorflow-intel==2.16.1->tensorflow) (0.3.2)\n",
      "Requirement already satisfied: opt-einsum>=2.3.2 in c:\\users\\lenovo\\anaconda3\\lib\\site-packages (from tensorflow-intel==2.16.1->tensorflow) (3.3.0)\n",
      "Requirement already satisfied: packaging in c:\\users\\lenovo\\anaconda3\\lib\\site-packages (from tensorflow-intel==2.16.1->tensorflow) (23.1)\n",
      "Requirement already satisfied: protobuf!=4.21.0,!=4.21.1,!=4.21.2,!=4.21.3,!=4.21.4,!=4.21.5,<5.0.0dev,>=3.20.3 in c:\\users\\lenovo\\anaconda3\\lib\\site-packages (from tensorflow-intel==2.16.1->tensorflow) (4.25.3)\n",
      "Requirement already satisfied: requests<3,>=2.21.0 in c:\\users\\lenovo\\anaconda3\\lib\\site-packages (from tensorflow-intel==2.16.1->tensorflow) (2.31.0)\n",
      "Requirement already satisfied: setuptools in c:\\users\\lenovo\\anaconda3\\lib\\site-packages (from tensorflow-intel==2.16.1->tensorflow) (68.0.0)\n",
      "Requirement already satisfied: six>=1.12.0 in c:\\users\\lenovo\\anaconda3\\lib\\site-packages (from tensorflow-intel==2.16.1->tensorflow) (1.16.0)\n",
      "Requirement already satisfied: termcolor>=1.1.0 in c:\\users\\lenovo\\anaconda3\\lib\\site-packages (from tensorflow-intel==2.16.1->tensorflow) (2.4.0)\n",
      "Requirement already satisfied: typing-extensions>=3.6.6 in c:\\users\\lenovo\\anaconda3\\lib\\site-packages (from tensorflow-intel==2.16.1->tensorflow) (4.7.1)\n",
      "Requirement already satisfied: wrapt>=1.11.0 in c:\\users\\lenovo\\anaconda3\\lib\\site-packages (from tensorflow-intel==2.16.1->tensorflow) (1.14.1)\n",
      "Requirement already satisfied: grpcio<2.0,>=1.24.3 in c:\\users\\lenovo\\anaconda3\\lib\\site-packages (from tensorflow-intel==2.16.1->tensorflow) (1.63.0)\n",
      "Requirement already satisfied: tensorboard<2.17,>=2.16 in c:\\users\\lenovo\\anaconda3\\lib\\site-packages (from tensorflow-intel==2.16.1->tensorflow) (2.16.2)\n",
      "Requirement already satisfied: keras>=3.0.0 in c:\\users\\lenovo\\anaconda3\\lib\\site-packages (from tensorflow-intel==2.16.1->tensorflow) (3.3.3)\n",
      "Requirement already satisfied: tensorflow-io-gcs-filesystem>=0.23.1 in c:\\users\\lenovo\\anaconda3\\lib\\site-packages (from tensorflow-intel==2.16.1->tensorflow) (0.31.0)\n",
      "Requirement already satisfied: numpy<2.0.0,>=1.23.5 in c:\\users\\lenovo\\anaconda3\\lib\\site-packages (from tensorflow-intel==2.16.1->tensorflow) (1.24.3)\n",
      "Requirement already satisfied: wheel<1.0,>=0.23.0 in c:\\users\\lenovo\\anaconda3\\lib\\site-packages (from astunparse>=1.6.0->tensorflow-intel==2.16.1->tensorflow) (0.38.4)\n",
      "Requirement already satisfied: rich in c:\\users\\lenovo\\anaconda3\\lib\\site-packages (from keras>=3.0.0->tensorflow-intel==2.16.1->tensorflow) (13.7.1)\n",
      "Requirement already satisfied: namex in c:\\users\\lenovo\\anaconda3\\lib\\site-packages (from keras>=3.0.0->tensorflow-intel==2.16.1->tensorflow) (0.0.8)\n",
      "Requirement already satisfied: optree in c:\\users\\lenovo\\anaconda3\\lib\\site-packages (from keras>=3.0.0->tensorflow-intel==2.16.1->tensorflow) (0.11.0)\n",
      "Requirement already satisfied: charset-normalizer<4,>=2 in c:\\users\\lenovo\\anaconda3\\lib\\site-packages (from requests<3,>=2.21.0->tensorflow-intel==2.16.1->tensorflow) (2.0.4)\n",
      "Requirement already satisfied: idna<4,>=2.5 in c:\\users\\lenovo\\anaconda3\\lib\\site-packages (from requests<3,>=2.21.0->tensorflow-intel==2.16.1->tensorflow) (3.4)\n",
      "Requirement already satisfied: urllib3<3,>=1.21.1 in c:\\users\\lenovo\\anaconda3\\lib\\site-packages (from requests<3,>=2.21.0->tensorflow-intel==2.16.1->tensorflow) (1.26.18)\n",
      "Requirement already satisfied: certifi>=2017.4.17 in c:\\users\\lenovo\\anaconda3\\lib\\site-packages (from requests<3,>=2.21.0->tensorflow-intel==2.16.1->tensorflow) (2023.7.22)\n",
      "Requirement already satisfied: markdown>=2.6.8 in c:\\users\\lenovo\\anaconda3\\lib\\site-packages (from tensorboard<2.17,>=2.16->tensorflow-intel==2.16.1->tensorflow) (3.4.1)\n",
      "Requirement already satisfied: tensorboard-data-server<0.8.0,>=0.7.0 in c:\\users\\lenovo\\anaconda3\\lib\\site-packages (from tensorboard<2.17,>=2.16->tensorflow-intel==2.16.1->tensorflow) (0.7.2)\n",
      "Requirement already satisfied: werkzeug>=1.0.1 in c:\\users\\lenovo\\anaconda3\\lib\\site-packages (from tensorboard<2.17,>=2.16->tensorflow-intel==2.16.1->tensorflow) (2.2.3)\n",
      "Requirement already satisfied: MarkupSafe>=2.1.1 in c:\\users\\lenovo\\anaconda3\\lib\\site-packages (from werkzeug>=1.0.1->tensorboard<2.17,>=2.16->tensorflow-intel==2.16.1->tensorflow) (2.1.1)\n",
      "Requirement already satisfied: markdown-it-py>=2.2.0 in c:\\users\\lenovo\\anaconda3\\lib\\site-packages (from rich->keras>=3.0.0->tensorflow-intel==2.16.1->tensorflow) (2.2.0)\n",
      "Requirement already satisfied: pygments<3.0.0,>=2.13.0 in c:\\users\\lenovo\\anaconda3\\lib\\site-packages (from rich->keras>=3.0.0->tensorflow-intel==2.16.1->tensorflow) (2.15.1)\n",
      "Requirement already satisfied: mdurl~=0.1 in c:\\users\\lenovo\\anaconda3\\lib\\site-packages (from markdown-it-py>=2.2.0->rich->keras>=3.0.0->tensorflow-intel==2.16.1->tensorflow) (0.1.0)\n",
      "Note: you may need to restart the kernel to use updated packages.\n"
     ]
    }
   ],
   "source": [
    "pip install tensorflow\n"
   ]
  },
  {
   "cell_type": "code",
   "execution_count": 4,
   "id": "7883c549",
   "metadata": {},
   "outputs": [],
   "source": [
    "# load libraries\n",
    "import os, glob \n",
    "import pandas as pd\n",
    "import matplotlib.pyplot as plt\n",
    "import numpy as np\n",
    "import tensorflow as tf\n",
    "from tensorflow import keras\n"
   ]
  },
  {
   "cell_type": "code",
   "execution_count": 5,
   "id": "75bfb2f7",
   "metadata": {},
   "outputs": [],
   "source": [
    "for file in fit_files:\n",
    "    df=pd.read_csv(file, index_col=\"timestamp\")\n",
    "    df['alt_difference'] = df['enhanced_altitude'] - df['enhanced_altitude'].shift(1)\n",
    "    df['rolling_ave_alt'] = df['alt_difference'].rolling(window=5).mean()\n",
    "    df = df.bfill()\n",
    "    df = df.drop(['position_lat','position_long'], axis=1, errors='ignore')\n",
    "    df.to_csv(file)\n",
    "    \n",
    "    "
   ]
  },
  {
   "cell_type": "code",
   "execution_count": 6,
   "id": "175ecb42",
   "metadata": {},
   "outputs": [],
   "source": [
    "# set parameters, file names\n",
    "#select the features for EDA graphs:\n",
    "eda_model_features =  [\"heart_rate\", \"enhanced_speed\",\"rolling_ave_alt\", \"cadence\", \"distance\", \"enhanced_altitude\"]\n",
    "#select the predictors for the model:\n",
    "model_features =  [\"heart_rate\", \"enhanced_speed\",\"rolling_ave_alt\",\"cadence\"]\n",
    "batch_size = 250 # training batch size for the LSTM\n",
    "epochs = 180 # maximum number of epochs - autostop will work on per file basis\n",
    "learning_rate = 0.001\n",
    "decay_rate = 0.001\n",
    "n_X = 120 # number of timesteps for training\n",
    "n_y = 22 # number of timesteps in future for prediction\n",
    "step = 1 # step size of predictors for model training\n",
    "sequence_length = int(n_X/step)\n",
    "n_fit_files_test_set = 10\n",
    "\n",
    "train_files=fit_files[0:-n_fit_files_test_set]\n",
    "valid_files=fit_files[-n_fit_files_test_set:]\n",
    "\n",
    "\n",
    "\n"
   ]
  },
  {
   "cell_type": "code",
   "execution_count": 7,
   "id": "bac1d54a",
   "metadata": {},
   "outputs": [],
   "source": [
    "def normalize(data):\n",
    "    data_mean = data.mean(axis=0)\n",
    "    data_std = data.std(axis=0)\n",
    "    #return (data - data_mean) / data_std, data_mean, data_std\n",
    "    return data_mean, data_std\n",
    "\n",
    "li = []\n",
    "\n",
    "for file in train_files:\n",
    "    df = pd.read_csv(file, index_col='timestamp')[model_features]\n",
    "    li.append(df)\n",
    "\n",
    "df = pd.concat(li, axis=0, ignore_index=True)\n",
    "\n",
    "df_mean, df_std = normalize(df)"
   ]
  },
  {
   "cell_type": "code",
   "execution_count": 8,
   "id": "c71bdc6c",
   "metadata": {},
   "outputs": [
    {
     "name": "stdout",
     "output_type": "stream",
     "text": [
      "heart_rate         143.179763\n",
      "enhanced_speed       2.677822\n",
      "rolling_ave_alt      0.001543\n",
      "cadence             88.341524\n",
      "dtype: float64\n",
      "heart_rate         11.770414\n",
      "enhanced_speed      0.395248\n",
      "rolling_ave_alt     0.136260\n",
      "cadence            10.049134\n",
      "dtype: float64\n"
     ]
    }
   ],
   "source": [
    "print(df_mean)\n",
    "print(df_std)"
   ]
  },
  {
   "cell_type": "code",
   "execution_count": 9,
   "id": "bfda2db9",
   "metadata": {},
   "outputs": [],
   "source": [
    "def denormalize_hr(data):\n",
    "    return data*df_std[0]+df_mean[0] "
   ]
  },
  {
   "cell_type": "markdown",
   "id": "412953bf",
   "metadata": {},
   "source": [
    "# Short EDA"
   ]
  },
  {
   "cell_type": "markdown",
   "id": "6f8684ea",
   "metadata": {},
   "source": [
    "The fit file here was collected during a hilly 5km run. It shows large variability during the workout in heart rate,\n",
    "speed and altitude. Cadence is relatively constant throughout the excercise."
   ]
  },
  {
   "cell_type": "code",
   "execution_count": 10,
   "id": "f6ae133e",
   "metadata": {},
   "outputs": [
    {
     "data": {
      "image/png": "[encoded data removed]",
      "text/plain": [
       "<Figure size 720x400 with 6 Axes>"
      ]
     },
     "metadata": {},
     "output_type": "display_data"
    }
   ],
   "source": [
    "eda_example = pd.read_csv(\"RUN_2021-08-26-07-15-23.fit.csv\", index_col='timestamp')[eda_model_features]\n",
    "\n",
    "def show_raw_visualization(data):\n",
    "    time_data = data.index\n",
    "    fig, axes = plt.subplots(\n",
    "        nrows=int(len(eda_model_features)/2+0.5), ncols=2, figsize=(9, 5), dpi=80, facecolor=\"w\", edgecolor=\"k\"\n",
    "    )\n",
    "    for i in range(len(eda_model_features)):\n",
    "        key = eda_model_features[i]\n",
    "        t_data = data[key]\n",
    "        t_data.index = time_data\n",
    "        t_data.head()\n",
    "        ax = t_data.plot(\n",
    "            ax=axes[i // 2, i % 2],\n",
    "            color='b',\n",
    "            title=\"{}\".format(key),\n",
    "            rot=25,\n",
    "        )\n",
    "        ax.set_xticks([])\n",
    "    plt.tight_layout()\n",
    "\n",
    "show_raw_visualization(eda_example)\n",
    "\n",
    "\n",
    "\n"
   ]
  },
  {
   "cell_type": "markdown",
   "id": "abf5af2e",
   "metadata": {},
   "source": [
    "# Create Validation DataSet"
   ]
  },
  {
   "cell_type": "code",
   "execution_count": 11,
   "id": "5596c821",
   "metadata": {},
   "outputs": [],
   "source": [
    "# validation dataset - train each file at the time\n",
    "n=0\n",
    "for file in valid_files:\n",
    "    df = pd.read_csv(file, index_col='timestamp')[model_features]\n",
    "    df = (df - df_mean) / df_std\n",
    "    start = n_X + n_y\n",
    "    end = n_X + len(df.index)\n",
    "    \n",
    "    x = df[model_features].values\n",
    "    y = df.iloc[start:end][[\"heart_rate\"]]\n",
    "    \n",
    "    dataset_val = keras.preprocessing.timeseries_dataset_from_array(\n",
    "        x,\n",
    "        y,\n",
    "        sequence_length=sequence_length,\n",
    "        sampling_rate=step,\n",
    "        batch_size=batch_size,\n",
    "    )\n",
    "    if n==0 : dataset_val_old = dataset_val\n",
    "    if n>0 : dataset_val_old = dataset_val.concatenate(dataset_val_old)\n",
    "    \n",
    "    n=n+1\n",
    "\n",
    "dataset_val = dataset_val_old"
   ]
  },
  {
   "cell_type": "markdown",
   "id": "5b2c9ae7",
   "metadata": {},
   "source": [
    "# Calculate Stats for naive model"
   ]
  },
  {
   "cell_type": "code",
   "execution_count": 12,
   "id": "f972152c",
   "metadata": {},
   "outputs": [
    {
     "name": "stderr",
     "output_type": "stream",
     "text": [
      "C:\\Users\\Lenovo\\AppData\\Local\\Temp\\ipykernel_14588\\3738122138.py:2: FutureWarning: Series.__getitem__ treating keys as positions is deprecated. In a future version, integer keys will always be treated as labels (consistent with DataFrame behavior). To access a value by position, use `ser.iloc[pos]`\n",
      "  return data*df_std[0]+df_mean[0]\n"
     ]
    },
    {
     "name": "stdout",
     "output_type": "stream",
     "text": [
      "Naive model\n",
      "MAE = 4.274, MSE = 42.304\n",
      "Mean and 95% prediction interval = -0.5512304250559285 +/- 12.702311586935162\n",
      "Uncertainty of mean = 0.2688862263589246\n"
     ]
    }
   ],
   "source": [
    "# Calculate statistics for the naive model\n",
    "# make dataframe for the naive model\n",
    "d_naive = pd.DataFrame(columns=['measured', 'predicted'])\n",
    "d_naive['measured']=denormalize_hr(x[n_y:,0])\n",
    "d_naive['predicted']=denormalize_hr(x[:-n_y,0])\n",
    "\n",
    "# calculate some stats\n",
    "from sklearn.metrics import mean_squared_error\n",
    "from sklearn.metrics import mean_absolute_error\n",
    "import scipy\n",
    "\n",
    "y_test, pred_test = d_naive['measured'].values, d_naive['predicted'].values\n",
    "\n",
    "MSE_test=round(mean_squared_error(y_test, pred_test, squared=True),3)\n",
    "MAE_test=round(mean_absolute_error(y_test, pred_test),3)\n",
    "\n",
    "test_sdev = np.std(pred_test-y_test)*1.96\n",
    "test_mean = np.mean(pred_test-y_test)\n",
    "\n",
    "\n",
    "def mean_confidence_interval(data, confidence=0.95):\n",
    "    a = 1.0 * np.array(data)\n",
    "    n = len(a)\n",
    "    m, se = np.mean(a), scipy.stats.sem(a)\n",
    "    h = se * scipy.stats.t.ppf((1 + confidence) / 2., n-1)\n",
    "    return m, m-h, m+h, h\n",
    "\n",
    "mean_s, ci95_l, ci95_h, mean_uncertainty = mean_confidence_interval(data=(pred_test-y_test))\n",
    "\n",
    "print('Naive model\\nMAE = '+ str(MAE_test)+\", MSE = \"+str(MSE_test))\n",
    "print ('Mean and 95% prediction interval = {} +/- {}'.format(test_mean,test_sdev))\n",
    "print('Uncertainty of mean = '+ str(mean_uncertainty))"
   ]
  },
  {
   "cell_type": "markdown",
   "id": "92f4f2e4",
   "metadata": {},
   "source": [
    "# Build The Model"
   ]
  },
  {
   "cell_type": "code",
   "execution_count": 1,
   "id": "d77f15aa",
   "metadata": {},
   "outputs": [
    {
     "ename": "NameError",
     "evalue": "name 'dataset_val' is not defined",
     "output_type": "error",
     "traceback": [
      "\u001b[1;31m---------------------------------------------------------------------------\u001b[0m",
      "\u001b[1;31mNameError\u001b[0m                                 Traceback (most recent call last)",
      "Cell \u001b[1;32mIn[1], line 6\u001b[0m\n\u001b[0;32m      2\u001b[0m get_ipython()\u001b[38;5;241m.\u001b[39mrun_line_magic(\u001b[38;5;124m'\u001b[39m\u001b[38;5;124mload_ext\u001b[39m\u001b[38;5;124m'\u001b[39m, \u001b[38;5;124m'\u001b[39m\u001b[38;5;124mtensorboard\u001b[39m\u001b[38;5;124m'\u001b[39m)\n\u001b[0;32m      5\u001b[0m \u001b[38;5;66;03m# get the shapes of X & y for a batch\u001b[39;00m\n\u001b[1;32m----> 6\u001b[0m \u001b[38;5;28;01mfor\u001b[39;00m batch \u001b[38;5;129;01min\u001b[39;00m dataset_val\u001b[38;5;241m.\u001b[39mtake(\u001b[38;5;241m1\u001b[39m):\n\u001b[0;32m      7\u001b[0m     inputs, targets \u001b[38;5;241m=\u001b[39m batch\n\u001b[0;32m      9\u001b[0m \u001b[38;5;66;03m# the model architecture\u001b[39;00m\n",
      "\u001b[1;31mNameError\u001b[0m: name 'dataset_val' is not defined"
     ]
    }
   ],
   "source": [
    "#Load the TensorBoard notebook extension\n",
    "%load_ext tensorboard\n",
    "\n",
    "\n",
    "# get the shapes of X & y for a batch\n",
    "for batch in dataset_val.take(1):\n",
    "    inputs, targets = batch\n",
    "\n",
    "# the model architecture\n",
    "inputs = keras.layers.Input(shape=(inputs.shape[1], inputs.shape[2]))\n",
    "outputs = keras.layers.LSTM(4, return_sequences=False)(inputs)\n",
    "outputs = keras.layers.Dense(1)(outputs)\n",
    "\n",
    "model = keras.Model(inputs=inputs, outputs=outputs)\n",
    "\n",
    "# learning rate\n",
    "lr_schedule = keras.optimizers.schedules.ExponentialDecay(\n",
    "    initial_learning_rate=0.01,\n",
    "    decay_steps=50000,\n",
    "    decay_rate=0.001)\n",
    "\n",
    "path_checkpoint = \"model_checkpoint.csv\"\n",
    "es_callback = keras.callbacks.EarlyStopping(monitor=\"val_mae\", min_delta=0, patience=5, verbose=1)\n",
    "\n",
    "tensorboard_callback = tf.keras.callbacks.TensorBoard(log_dir='./logs/', histogram_freq=1)\n",
    "\n",
    "\n",
    "modelckpt_callback = keras.callbacks.ModelCheckpoint(\n",
    "    monitor=\"val_mae\",\n",
    "    filepath=path_checkpoint,\n",
    "    verbose=1,\n",
    "    save_weights_only=True,\n",
    "    save_best_only=True,\n",
    ")\n",
    "\n",
    "model.compile(optimizer=keras.optimizers.Adam(learning_rate=lr_schedule), metrics=[\"mae\"], loss=\"mae\")\n",
    "\n",
    "model.summary()"
   ]
  },
  {
   "cell_type": "code",
   "execution_count": null,
   "id": "7bd497d3",
   "metadata": {},
   "outputs": [],
   "source": []
  },
  {
   "cell_type": "code",
   "execution_count": null,
   "id": "22dd93bf",
   "metadata": {},
   "outputs": [],
   "source": []
  },
  {
   "cell_type": "code",
   "execution_count": null,
   "id": "2e96d3ad",
   "metadata": {},
   "outputs": [],
   "source": []
  }
 ],
 "metadata": {
  "kernelspec": {
   "display_name": "Python 3 (ipykernel)",
   "language": "python",
   "name": "python3"
  },
  "language_info": {
   "codemirror_mode": {
    "name": "ipython",
    "version": 3
   },
   "file_extension": ".py",
   "mimetype": "text/x-python",
   "name": "python",
   "nbconvert_exporter": "python",
   "pygments_lexer": "ipython3",
   "version": "3.11.5"
  }
 },
 "nbformat": 4,
 "nbformat_minor": 5
}
